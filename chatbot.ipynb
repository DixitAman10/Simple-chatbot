{
  "nbformat": 4,
  "nbformat_minor": 0,
  "metadata": {
    "colab": {
      "name": "chatbot.ipynb",
      "provenance": []
    },
    "kernelspec": {
      "name": "python3",
      "display_name": "Python 3"
    },
    "language_info": {
      "name": "python"
    }
  },
  "cells": [
    {
      "cell_type": "code",
      "metadata": {
        "colab": {
          "base_uri": "https://localhost:8080/",
          "height": 126
        },
        "id": "xCXqKeZRtw5M",
        "outputId": "247ecbf4-193f-4c8d-a9b8-b282c9b0f2f8"
      },
      "source": [
        "\n",
        "\n",
        "\n",
        "\n",
        "\n",
        "\n",
        "\n",
        "q = input('input a str : ')\n",
        "\n",
        "punc = '''!?.'''\n",
        "\n",
        "for char in punc:\n",
        "    if char in q:\n",
        "        q = q.replace(char, \"\")\n",
        "print(\"The string after punctuation filter : \" + q)\n",
        "\n",
        "\n",
        "if len(q) > 50:\n",
        "  print(True)\n",
        "else:\n",
        "  print(False)\n",
        "\n",
        "if ele in q:\n",
        "  if q.isalnum():\n",
        "    print(True)\n",
        "  else:\n",
        "    print(False)\n",
        "\n",
        "q = input('input a str : ')\n",
        "\n",
        "def chatbot(q):\n",
        "  \n",
        "  if \"How are you?\" in q:\n",
        "    return ('I am fine thank you')\n",
        "    if 'Who are you!' in q:\n",
        "       return ('I am a machine')\n",
        "       if \"\" in q:\n",
        "         return ('Invalid')\n",
        "  else:\n",
        "    return ('other query')\n",
        "  \n",
        "chatbot(q)\n",
        "\n",
        "    \n",
        "\n"
      ],
      "execution_count": 57,
      "outputs": [
        {
          "output_type": "stream",
          "text": [
            "input a str : How are you?\n",
            "The string after punctuation filter : How are you\n",
            "False\n",
            "False\n",
            "input a str : How are you?\n"
          ],
          "name": "stdout"
        },
        {
          "output_type": "execute_result",
          "data": {
            "application/vnd.google.colaboratory.intrinsic+json": {
              "type": "string"
            },
            "text/plain": [
              "'I am fine thank you'"
            ]
          },
          "metadata": {
            "tags": []
          },
          "execution_count": 57
        }
      ]
    },
    {
      "cell_type": "code",
      "metadata": {
        "id": "DZhAqkwuuUIU"
      },
      "source": [
        "\n",
        "\n"
      ],
      "execution_count": 49,
      "outputs": []
    },
    {
      "cell_type": "code",
      "metadata": {
        "id": "SWwtG_aoMKzC"
      },
      "source": [
        ""
      ],
      "execution_count": null,
      "outputs": []
    }
  ]
}